{
 "cells": [
  {
   "cell_type": "code",
   "execution_count": 4,
   "metadata": {},
   "outputs": [],
   "source": [
    "import numpy as np \n",
    "#aqui estoy importando la libreria de numpy\n",
    "import pandas as pd\n",
    "#aqui estoy importando la libreria de pandas"
   ]
  },
  {
   "cell_type": "code",
   "execution_count": 5,
   "metadata": {},
   "outputs": [
    {
     "name": "stdout",
     "output_type": "stream",
     "text": [
      "      SalePrice  OverallQual  1stFlrSF  TotRmsAbvGrd  YearBuilt  LotFrontage\n",
      "0      208500.0          7.0     856.0           8.0     2003.0         65.0\n",
      "1      181500.0          6.0    1262.0           6.0     1976.0         80.0\n",
      "2      223500.0          7.0     920.0           6.0     2001.0         68.0\n",
      "3      140000.0          7.0     961.0           7.0     1915.0         60.0\n",
      "4      250000.0          8.0    1145.0           9.0     2000.0         84.0\n",
      "...         ...          ...       ...           ...        ...          ...\n",
      "1455   175000.0          6.0     953.0           7.0     1999.0         62.0\n",
      "1456   210000.0          6.0    2073.0           7.0     1978.0         85.0\n",
      "1457   266500.0          7.0    1188.0           9.0     1941.0         66.0\n",
      "1458   142125.0          5.0    1078.0           5.0     1950.0         68.0\n",
      "1459   147500.0          5.0    1256.0           6.0     1965.0         75.0\n",
      "\n",
      "[1460 rows x 6 columns]\n"
     ]
    }
   ],
   "source": [
    "df= pd.DataFrame(np.load(\"proyecto_training_data.npy\"),columns=['SalePrice','OverallQual','1stFlrSF','TotRmsAbvGrd','YearBuilt','LotFrontage'])\n",
    "#creo la variable df para poder verla luego, esta variale incluye lo siguiente\n",
    "#llama un Dataframe con panda, con los datos del proyecto_training_data que se carga con numpy, adentro del dataframe coloco una coma y pongo columns \n",
    "#para darle nombre a las columnas \n",
    "print(df)"
   ]
  },
  {
   "cell_type": "code",
   "execution_count": 6,
   "metadata": {},
   "outputs": [
    {
     "name": "stdout",
     "output_type": "stream",
     "text": [
      "1460\n",
      "6\n"
     ]
    }
   ],
   "source": [
    "filas , columnas = df.shape\n",
    "print(filas) #tomar en cuenta el index empieza en 0 por eso marca 1459, en vez de 1460\n",
    "print(columnas)"
   ]
  },
  {
   "cell_type": "code",
   "execution_count": 7,
   "metadata": {},
   "outputs": [
    {
     "name": "stdout",
     "output_type": "stream",
     "text": [
      "      SalePrice  OverallQual  1stFlrSF  TotRmsAbvGrd  YearBuilt  LotFrontage\n",
      "0       85400.0          6.0     483.0           4.0     1971.0         21.0\n",
      "1      426000.0         10.0    1742.0           9.0     2007.0         96.0\n",
      "2      167900.0          6.0     798.0           7.0     1964.0         80.0\n",
      "3      183900.0          7.0     713.0           6.0     1999.0         35.0\n",
      "4      173000.0          6.0    1167.0           6.0     1992.0          NaN\n",
      "...         ...          ...       ...           ...        ...          ...\n",
      "1163   181000.0          7.0    1504.0           7.0     2005.0         43.0\n",
      "1164   222000.0          7.0     993.0           8.0     1997.0          NaN\n",
      "1165   232600.0          8.0    1489.0           7.0     2006.0         81.0\n",
      "1166   124000.0          5.0    1584.0           8.0     1967.0         65.0\n",
      "1167   281213.0          8.0    1133.0           9.0     2005.0         88.0\n",
      "\n",
      "[1168 rows x 6 columns]\n",
      "--------\n",
      "      SalePrice  OverallQual  1stFlrSF  TotRmsAbvGrd  YearBuilt  LotFrontage\n",
      "1168   315000.0          9.0    1838.0           8.0     2006.0         85.0\n",
      "1169   117500.0          6.0    1178.0           8.0     1880.0         90.0\n",
      "1170   172400.0          6.0     953.0           7.0     2000.0          NaN\n",
      "1171   212000.0          7.0     827.0           6.0     1996.0         43.0\n",
      "1172   378500.0          9.0    2018.0          10.0     2008.0         89.0\n",
      "...         ...          ...       ...           ...        ...          ...\n",
      "1455   188000.0          5.0    1728.0           8.0     1976.0         63.0\n",
      "1456   229000.0          7.0    1377.0           9.0     1988.0          NaN\n",
      "1457   139000.0          6.0    1196.0           6.0     1956.0         72.0\n",
      "1458   226000.0          7.0    1479.0           7.0     2003.0         72.0\n",
      "1459   105000.0          3.0     694.0           6.0     1915.0         60.0\n",
      "\n",
      "[292 rows x 6 columns]\n"
     ]
    }
   ],
   "source": [
    "#usare shuffle para poder colocar los datos de forma aleatoria\n",
    "np.random.shuffle(df.values)\n",
    "#voy a separar los datos en 80% de entrenamiento y el 20% de validacion\n",
    "Cantidad_filas_Entrenamiento =int(0.8*len(df))\n",
    "#necesito hacer dos subconjuntos, usare iloc\n",
    "set_Entrenamiento = df.iloc[:Cantidad_filas_Entrenamiento]\n",
    "set_validacion = df.iloc[Cantidad_filas_Entrenamiento:]\n",
    "\n",
    "print(set_Entrenamiento)\n",
    "print('--------')\n",
    "print(set_validacion)"
   ]
  },
  {
   "cell_type": "code",
   "execution_count": 8,
   "metadata": {},
   "outputs": [
    {
     "name": "stdout",
     "output_type": "stream",
     "text": [
      "continuas: ['SalePrice', '1stFlrSF', 'YearBuilt', 'LotFrontage']\n",
      "discretas: ['OverallQual', 'TotRmsAbvGrd']\n",
      "categoricas: []\n"
     ]
    }
   ],
   "source": [
    "def getDFDataTypes(df):\n",
    "    continuas = []\n",
    "    discretas  = []\n",
    "    categoricas = [] \n",
    "    for col in df.columns.values:\n",
    "        if((df[col].dtype == 'int64') or (df[col].dtype == 'float64')):\n",
    "            cantidad = len(df[col].value_counts())\n",
    "            if(cantidad >= 30):\n",
    "                continuas.append(col)\n",
    "            else:\n",
    "                discretas.append(col)\n",
    "        else:\n",
    "            categoricas.append(col)\n",
    "    return continuas, discretas, categoricas\n",
    "continuas, discretas, categoricas = getDFDataTypes(df)\n",
    "print('continuas:',continuas)\n",
    "print('discretas:',discretas)\n",
    "print('categoricas:',categoricas)"
   ]
  },
  {
   "cell_type": "markdown",
   "metadata": {},
   "source": []
  },
  {
   "cell_type": "code",
   "execution_count": 28,
   "metadata": {},
   "outputs": [],
   "source": [
    "#sacando datos para la primera variable, \n",
    "col1 = set_Entrenamiento.to_numpy()[:,0]\n",
    "Sale_Price_media = np.round((np.mean(col1)),2)\n",
    "Sale_Price_Max = np.argmax(col1)\n",
    "Sale_Price_Min = np.argmin(col1)\n",
    "Sale_Price_Rango = np.ptp(col1)\n",
    "Sale_Price_Desves = np.round((np.std(col1)),2)\n",
    "Exploracion_Precio = [Sale_Price_media,Sale_Price_Max,Sale_Price_Min,Sale_Price_Rango,Sale_Price_Desves]"
   ]
  },
  {
   "cell_type": "code",
   "execution_count": 29,
   "metadata": {},
   "outputs": [],
   "source": [
    "#Exploracion segunda variable, \n",
    "col2 = set_Entrenamiento.to_numpy()[:,1]\n",
    "Overall_media = np.round((np.mean(col2)),2)\n",
    "Overall_Max = np.argmax(col2)\n",
    "Overall_Min = np.argmin(col2)\n",
    "Overall_Rango = np.ptp(col2)\n",
    "Overall_Desves = np.round((np.std(col2)),2)\n",
    "Exploracion_Overall = [Overall_media,Overall_Max,Overall_Min,Overall_Rango,Overall_Desves]\n",
    "\n"
   ]
  },
  {
   "cell_type": "code",
   "execution_count": 30,
   "metadata": {},
   "outputs": [],
   "source": [
    "#Exploracion tercera variable, \n",
    "col3 = set_Entrenamiento.to_numpy()[:,2]\n",
    "firstfloor_media = np.round((np.mean(col3)),2)\n",
    "firstfloor_Max = np.argmax(col3)\n",
    "firstfloor_Min = np.argmin(col3)\n",
    "firstfloor_Rango = np.ptp(col3)\n",
    "firstfloor_Desves = np.round((np.std(col3)),2)\n",
    "Exploracion_firstfloor = [firstfloor_media,firstfloor_Max,firstfloor_Min,firstfloor_Rango,firstfloor_Desves]"
   ]
  },
  {
   "cell_type": "code",
   "execution_count": 31,
   "metadata": {},
   "outputs": [],
   "source": [
    "#Exploracion cuarta variable, \n",
    "col4 = set_Entrenamiento.to_numpy()[:,3]\n",
    "Rooms_media = np.round((np.mean(col4)),2)\n",
    "Rooms_Max = np.argmax(col4)\n",
    "Rooms_Min = np.argmin(col4)\n",
    "Rooms_Rango = np.ptp(col4)\n",
    "Rooms_Desves = np.round((np.std(col4)),2)\n",
    "Exploracion_Rooms = [Rooms_media,Rooms_Max,Overall_Min,Rooms_Rango,Rooms_Desves]"
   ]
  },
  {
   "cell_type": "code",
   "execution_count": null,
   "metadata": {},
   "outputs": [],
   "source": [
    "#Exploracion segunda variable, \n",
    "col2 = set_Entrenamiento.to_numpy()[:,1]\n",
    "Overall_media = np.round((np.mean(col1)),2)\n",
    "Overall_Max = np.argmax(col1)\n",
    "Overall_Min = np.argmin(col1)\n",
    "Overall_Rango = np.ptp(col1)\n",
    "Overall_Desves = np.round((np.std(col1)),2)\n",
    "Exploracion_Overall = [Overall_media,Overall_Max,Overall_Min,Overall_Rango,Overall_Desves]"
   ]
  },
  {
   "cell_type": "code",
   "execution_count": null,
   "metadata": {},
   "outputs": [],
   "source": [
    "#Exploracion segunda variable, \n",
    "col2 = set_Entrenamiento.to_numpy()[:,1]\n",
    "Overall_media = np.round((np.mean(col1)),2)\n",
    "Overall_Max = np.argmax(col1)\n",
    "Overall_Min = np.argmin(col1)\n",
    "Overall_Rango = np.ptp(col1)\n",
    "Overall_Desves = np.round((np.std(col1)),2)\n",
    "Exploracion_Overall = [Overall_media,Overall_Max,Overall_Min,Overall_Rango,Overall_Desves]"
   ]
  }
 ],
 "metadata": {
  "kernelspec": {
   "display_name": "base",
   "language": "python",
   "name": "python3"
  },
  "language_info": {
   "codemirror_mode": {
    "name": "ipython",
    "version": 3
   },
   "file_extension": ".py",
   "mimetype": "text/x-python",
   "name": "python",
   "nbconvert_exporter": "python",
   "pygments_lexer": "ipython3",
   "version": "3.9.13"
  },
  "orig_nbformat": 4,
  "vscode": {
   "interpreter": {
    "hash": "0e0d5a91f37e5e94c46f0fcb877a7750a213205c99f3374c7ae9a15f2ce6e579"
   }
  }
 },
 "nbformat": 4,
 "nbformat_minor": 2
}

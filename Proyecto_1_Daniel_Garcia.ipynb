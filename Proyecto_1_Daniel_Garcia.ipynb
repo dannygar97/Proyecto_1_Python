{
 "cells": [
  {
   "cell_type": "code",
   "execution_count": 1,
   "metadata": {},
   "outputs": [],
   "source": [
    "import numpy as np \n",
    "#aqui estoy importando la libreria de numpy\n",
    "import pandas as pd\n",
    "#aqui estoy importando la libreria de pandas"
   ]
  },
  {
   "cell_type": "code",
   "execution_count": 2,
   "metadata": {},
   "outputs": [
    {
     "name": "stdout",
     "output_type": "stream",
     "text": [
      "      SalePrice  OverallQual  1stFlrSF  TotRmsAbvGrd  YearBuilt  LotFrontage\n",
      "0      208500.0          7.0     856.0           8.0     2003.0         65.0\n",
      "1      181500.0          6.0    1262.0           6.0     1976.0         80.0\n",
      "2      223500.0          7.0     920.0           6.0     2001.0         68.0\n",
      "3      140000.0          7.0     961.0           7.0     1915.0         60.0\n",
      "4      250000.0          8.0    1145.0           9.0     2000.0         84.0\n",
      "...         ...          ...       ...           ...        ...          ...\n",
      "1455   175000.0          6.0     953.0           7.0     1999.0         62.0\n",
      "1456   210000.0          6.0    2073.0           7.0     1978.0         85.0\n",
      "1457   266500.0          7.0    1188.0           9.0     1941.0         66.0\n",
      "1458   142125.0          5.0    1078.0           5.0     1950.0         68.0\n",
      "1459   147500.0          5.0    1256.0           6.0     1965.0         75.0\n",
      "\n",
      "[1460 rows x 6 columns]\n"
     ]
    }
   ],
   "source": [
    "df= pd.DataFrame(np.load(\"proyecto_training_data.npy\"),columns=['SalePrice','OverallQual','1stFlrSF','TotRmsAbvGrd','YearBuilt','LotFrontage'])\n",
    "#creo la variable df para poder verla luego, esta variale incluye lo siguiente\n",
    "#llama un Dataframe con panda, con los datos del proyecto_training_data que se carga con numpy, adentro del dataframe coloco una coma y pongo columns \n",
    "#para darle nombre a las columnas \n",
    "print(df)"
   ]
  },
  {
   "cell_type": "code",
   "execution_count": 3,
   "metadata": {},
   "outputs": [
    {
     "name": "stdout",
     "output_type": "stream",
     "text": [
      "1460\n",
      "6\n"
     ]
    }
   ],
   "source": [
    "filas , columnas = df.shape\n",
    "print(filas) #tomar en cuenta el index empieza en 0 por eso marca 1459, en vez de 1460\n",
    "print(columnas)"
   ]
  },
  {
   "cell_type": "code",
   "execution_count": 4,
   "metadata": {},
   "outputs": [
    {
     "name": "stdout",
     "output_type": "stream",
     "text": [
      "      SalePrice  OverallQual  1stFlrSF  TotRmsAbvGrd  YearBuilt  LotFrontage\n",
      "0      345000.0          8.0    2000.0           9.0     1972.0         75.0\n",
      "1      123000.0          5.0    1319.0           5.0     1953.0         79.0\n",
      "2      146800.0          6.0    1062.0           5.0     1976.0          NaN\n",
      "3      119900.0          5.0     793.0           5.0     1939.0         65.0\n",
      "4      139900.0          5.0    1422.0           6.0     1960.0          NaN\n",
      "...         ...          ...       ...           ...        ...          ...\n",
      "1163   244400.0          7.0    1207.0          10.0     1940.0          NaN\n",
      "1164   142500.0          6.0    1141.0           6.0     2005.0         63.0\n",
      "1165   180000.0          6.0    1523.0           7.0     1976.0        104.0\n",
      "1166   177000.0          6.0     794.0           6.0     1997.0          NaN\n",
      "1167   171000.0          5.0    1701.0           6.0     1975.0          NaN\n",
      "\n",
      "[1168 rows x 6 columns]\n",
      "--------\n",
      "      SalePrice  OverallQual  1stFlrSF  TotRmsAbvGrd  YearBuilt  LotFrontage\n",
      "1168   339750.0          8.0    1050.0           8.0     2007.0         85.0\n",
      "1169   116000.0          5.0     910.0           5.0     1953.0         74.0\n",
      "1170   254900.0          7.0     991.0           8.0     2004.0        100.0\n",
      "1171   122000.0          8.0     938.0           8.0     1872.0         50.0\n",
      "1172   111250.0          4.0     864.0           5.0     1972.0          NaN\n",
      "...         ...          ...       ...           ...        ...          ...\n",
      "1455   107500.0          5.0    1378.0          11.0     1892.0         60.0\n",
      "1456   222000.0          6.0    1680.0           5.0     1988.0          NaN\n",
      "1457   146000.0          6.0     855.0           7.0     1978.0         24.0\n",
      "1458   222500.0          7.0     884.0           8.0     2001.0          NaN\n",
      "1459   206900.0          6.0    1092.0           9.0     1969.0         85.0\n",
      "\n",
      "[292 rows x 6 columns]\n"
     ]
    }
   ],
   "source": [
    "#usare shuffle para poder colocar los datos de forma aleatoria\n",
    "np.random.shuffle(df.values)\n",
    "#voy a separar los datos en 80% de entrenamiento y el 20% de validacion\n",
    "Cantidad_filas_Entrenamiento =int(0.8*len(df))\n",
    "#necesito hacer dos subconjuntos, usare iloc\n",
    "set_Entrenamiento = df.iloc[:Cantidad_filas_Entrenamiento]\n",
    "set_validacion = df.iloc[Cantidad_filas_Entrenamiento:]\n",
    "\n",
    "print(set_Entrenamiento)\n",
    "print('--------')\n",
    "print(set_validacion)"
   ]
  },
  {
   "cell_type": "code",
   "execution_count": 5,
   "metadata": {},
   "outputs": [
    {
     "name": "stdout",
     "output_type": "stream",
     "text": [
      "continuas: ['SalePrice', '1stFlrSF', 'YearBuilt', 'LotFrontage']\n",
      "discretas: ['OverallQual', 'TotRmsAbvGrd']\n",
      "categoricas: []\n"
     ]
    }
   ],
   "source": [
    "def getDFDataTypes(df):\n",
    "    continuas = []\n",
    "    discretas  = []\n",
    "    categoricas = [] \n",
    "    for col in df.columns.values:\n",
    "        if((df[col].dtype == 'int64') or (df[col].dtype == 'float64')):\n",
    "            cantidad = len(df[col].value_counts())\n",
    "            if(cantidad >= 30):\n",
    "                continuas.append(col)\n",
    "            else:\n",
    "                discretas.append(col)\n",
    "        else:\n",
    "            categoricas.append(col)\n",
    "    return continuas, discretas, categoricas\n",
    "continuas, discretas, categoricas = getDFDataTypes(df)\n",
    "print('continuas:',continuas)\n",
    "print('discretas:',discretas)\n",
    "print('categoricas:',categoricas)"
   ]
  },
  {
   "cell_type": "code",
   "execution_count": null,
   "metadata": {},
   "outputs": [],
   "source": [
    "#sacando datos para la primera variable, la dependiente SalePrice\n"
   ]
  }
 ],
 "metadata": {
  "kernelspec": {
   "display_name": "base",
   "language": "python",
   "name": "python3"
  },
  "language_info": {
   "codemirror_mode": {
    "name": "ipython",
    "version": 3
   },
   "file_extension": ".py",
   "mimetype": "text/x-python",
   "name": "python",
   "nbconvert_exporter": "python",
   "pygments_lexer": "ipython3",
   "version": "3.9.13"
  },
  "orig_nbformat": 4,
  "vscode": {
   "interpreter": {
    "hash": "0e0d5a91f37e5e94c46f0fcb877a7750a213205c99f3374c7ae9a15f2ce6e579"
   }
  }
 },
 "nbformat": 4,
 "nbformat_minor": 2
}
